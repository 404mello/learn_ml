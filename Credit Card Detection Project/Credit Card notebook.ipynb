{
 "cells": [
  {
   "cell_type": "code",
   "execution_count": 250,
   "metadata": {},
   "outputs": [],
   "source": [
    "import pandas as pd\n",
    "import numpy as np\n",
    "from sklearn.model_selection import train_test_split\n",
    "from sklearn.neighbors import KNeighborsClassifier\n",
    "from sklearn.metrics import confusion_matrix, classification_report\n",
    "import matplotlib.pyplot as plt"
   ]
  },
  {
   "cell_type": "code",
   "execution_count": 251,
   "metadata": {},
   "outputs": [],
   "source": [
    "filename = 'credit_card.csv'\n",
    "df = pd.read_csv(filename)"
   ]
  },
  {
   "cell_type": "code",
   "execution_count": 252,
   "metadata": {},
   "outputs": [
    {
     "data": {
      "text/html": [
       "<div>\n",
       "<style scoped>\n",
       "    .dataframe tbody tr th:only-of-type {\n",
       "        vertical-align: middle;\n",
       "    }\n",
       "\n",
       "    .dataframe tbody tr th {\n",
       "        vertical-align: top;\n",
       "    }\n",
       "\n",
       "    .dataframe thead th {\n",
       "        text-align: right;\n",
       "    }\n",
       "</style>\n",
       "<table border=\"1\" class=\"dataframe\">\n",
       "  <thead>\n",
       "    <tr style=\"text-align: right;\">\n",
       "      <th></th>\n",
       "      <th>LIMIT_BAL</th>\n",
       "      <th>SEX</th>\n",
       "      <th>EDUCATION</th>\n",
       "      <th>MARRIAGE</th>\n",
       "      <th>AGE</th>\n",
       "      <th>PAY_0</th>\n",
       "      <th>PAY_2</th>\n",
       "      <th>PAY_3</th>\n",
       "      <th>PAY_4</th>\n",
       "      <th>PAY_5</th>\n",
       "      <th>...</th>\n",
       "      <th>BILL_AMT4</th>\n",
       "      <th>BILL_AMT5</th>\n",
       "      <th>BILL_AMT6</th>\n",
       "      <th>PAY_AMT1</th>\n",
       "      <th>PAY_AMT2</th>\n",
       "      <th>PAY_AMT3</th>\n",
       "      <th>PAY_AMT4</th>\n",
       "      <th>PAY_AMT5</th>\n",
       "      <th>PAY_AMT6</th>\n",
       "      <th>TRGT1</th>\n",
       "    </tr>\n",
       "  </thead>\n",
       "  <tbody>\n",
       "    <tr>\n",
       "      <th>0</th>\n",
       "      <td>20000</td>\n",
       "      <td>2</td>\n",
       "      <td>2</td>\n",
       "      <td>1</td>\n",
       "      <td>24</td>\n",
       "      <td>2</td>\n",
       "      <td>2</td>\n",
       "      <td>-1</td>\n",
       "      <td>-1</td>\n",
       "      <td>-2</td>\n",
       "      <td>...</td>\n",
       "      <td>0</td>\n",
       "      <td>0</td>\n",
       "      <td>0</td>\n",
       "      <td>0</td>\n",
       "      <td>689</td>\n",
       "      <td>0</td>\n",
       "      <td>0</td>\n",
       "      <td>0</td>\n",
       "      <td>0</td>\n",
       "      <td>1</td>\n",
       "    </tr>\n",
       "    <tr>\n",
       "      <th>1</th>\n",
       "      <td>120000</td>\n",
       "      <td>2</td>\n",
       "      <td>2</td>\n",
       "      <td>2</td>\n",
       "      <td>26</td>\n",
       "      <td>-1</td>\n",
       "      <td>2</td>\n",
       "      <td>0</td>\n",
       "      <td>0</td>\n",
       "      <td>0</td>\n",
       "      <td>...</td>\n",
       "      <td>3272</td>\n",
       "      <td>3455</td>\n",
       "      <td>3261</td>\n",
       "      <td>0</td>\n",
       "      <td>1000</td>\n",
       "      <td>1000</td>\n",
       "      <td>1000</td>\n",
       "      <td>0</td>\n",
       "      <td>2000</td>\n",
       "      <td>1</td>\n",
       "    </tr>\n",
       "    <tr>\n",
       "      <th>2</th>\n",
       "      <td>90000</td>\n",
       "      <td>2</td>\n",
       "      <td>2</td>\n",
       "      <td>2</td>\n",
       "      <td>34</td>\n",
       "      <td>0</td>\n",
       "      <td>0</td>\n",
       "      <td>0</td>\n",
       "      <td>0</td>\n",
       "      <td>0</td>\n",
       "      <td>...</td>\n",
       "      <td>14331</td>\n",
       "      <td>14948</td>\n",
       "      <td>15549</td>\n",
       "      <td>1518</td>\n",
       "      <td>1500</td>\n",
       "      <td>1000</td>\n",
       "      <td>1000</td>\n",
       "      <td>1000</td>\n",
       "      <td>5000</td>\n",
       "      <td>0</td>\n",
       "    </tr>\n",
       "    <tr>\n",
       "      <th>3</th>\n",
       "      <td>50000</td>\n",
       "      <td>2</td>\n",
       "      <td>2</td>\n",
       "      <td>1</td>\n",
       "      <td>37</td>\n",
       "      <td>0</td>\n",
       "      <td>0</td>\n",
       "      <td>0</td>\n",
       "      <td>0</td>\n",
       "      <td>0</td>\n",
       "      <td>...</td>\n",
       "      <td>28314</td>\n",
       "      <td>28959</td>\n",
       "      <td>29547</td>\n",
       "      <td>2000</td>\n",
       "      <td>2019</td>\n",
       "      <td>1200</td>\n",
       "      <td>1100</td>\n",
       "      <td>1069</td>\n",
       "      <td>1000</td>\n",
       "      <td>0</td>\n",
       "    </tr>\n",
       "    <tr>\n",
       "      <th>4</th>\n",
       "      <td>50000</td>\n",
       "      <td>1</td>\n",
       "      <td>2</td>\n",
       "      <td>1</td>\n",
       "      <td>57</td>\n",
       "      <td>-1</td>\n",
       "      <td>0</td>\n",
       "      <td>-1</td>\n",
       "      <td>0</td>\n",
       "      <td>0</td>\n",
       "      <td>...</td>\n",
       "      <td>20940</td>\n",
       "      <td>19146</td>\n",
       "      <td>19131</td>\n",
       "      <td>2000</td>\n",
       "      <td>36681</td>\n",
       "      <td>10000</td>\n",
       "      <td>9000</td>\n",
       "      <td>689</td>\n",
       "      <td>679</td>\n",
       "      <td>0</td>\n",
       "    </tr>\n",
       "  </tbody>\n",
       "</table>\n",
       "<p>5 rows × 24 columns</p>\n",
       "</div>"
      ],
      "text/plain": [
       "   LIMIT_BAL  SEX  EDUCATION  MARRIAGE  AGE  PAY_0  PAY_2  PAY_3  PAY_4  \\\n",
       "0      20000    2          2         1   24      2      2     -1     -1   \n",
       "1     120000    2          2         2   26     -1      2      0      0   \n",
       "2      90000    2          2         2   34      0      0      0      0   \n",
       "3      50000    2          2         1   37      0      0      0      0   \n",
       "4      50000    1          2         1   57     -1      0     -1      0   \n",
       "\n",
       "   PAY_5  ...    BILL_AMT4  BILL_AMT5  BILL_AMT6  PAY_AMT1  PAY_AMT2  \\\n",
       "0     -2  ...            0          0          0         0       689   \n",
       "1      0  ...         3272       3455       3261         0      1000   \n",
       "2      0  ...        14331      14948      15549      1518      1500   \n",
       "3      0  ...        28314      28959      29547      2000      2019   \n",
       "4      0  ...        20940      19146      19131      2000     36681   \n",
       "\n",
       "   PAY_AMT3  PAY_AMT4  PAY_AMT5  PAY_AMT6  TRGT1  \n",
       "0         0         0         0         0      1  \n",
       "1      1000      1000         0      2000      1  \n",
       "2      1000      1000      1000      5000      0  \n",
       "3      1200      1100      1069      1000      0  \n",
       "4     10000      9000       689       679      0  \n",
       "\n",
       "[5 rows x 24 columns]"
      ]
     },
     "execution_count": 252,
     "metadata": {},
     "output_type": "execute_result"
    }
   ],
   "source": [
    "df.head()"
   ]
  },
  {
   "cell_type": "code",
   "execution_count": 253,
   "metadata": {},
   "outputs": [
    {
     "data": {
      "text/plain": [
       "24"
      ]
     },
     "execution_count": 253,
     "metadata": {},
     "output_type": "execute_result"
    }
   ],
   "source": [
    "len(list(df.columns))"
   ]
  },
  {
   "cell_type": "code",
   "execution_count": 254,
   "metadata": {},
   "outputs": [],
   "source": [
    "array = df.values\n",
    "X = array[:,:-1]\n",
    "Y = array[:,-1]"
   ]
  },
  {
   "cell_type": "code",
   "execution_count": 255,
   "metadata": {},
   "outputs": [
    {
     "name": "stdout",
     "output_type": "stream",
     "text": [
      "(30000, 23)\n",
      "(30000,)\n"
     ]
    }
   ],
   "source": [
    "print(X.shape)\n",
    "print(Y.shape)"
   ]
  },
  {
   "cell_type": "code",
   "execution_count": 256,
   "metadata": {},
   "outputs": [
    {
     "name": "stdout",
     "output_type": "stream",
     "text": [
      "Training accuracy list [0.9995833333333334, 0.8449583333333334, 0.84375, 0.8155833333333333, 0.8159166666666666, 0.804125, 0.80625, 0.7985, 0.7992083333333333, 0.79275]\n",
      "Testing accuracy list [0.6956666666666667, 0.7656666666666667, 0.7363333333333333, 0.7741666666666667, 0.7623333333333333, 0.7733333333333333, 0.767, 0.7785, 0.7716666666666666, 0.7781666666666667]\n"
     ]
    }
   ],
   "source": [
    "x_train, x_test, y_train, y_test = train_test_split(X, Y, test_size = 0.2, random_state = 0)\n",
    "accuracy_train=[]\n",
    "accuracy_test=[]\n",
    "\n",
    "for i in range(1,11):\n",
    "    clf = KNeighborsClassifier(n_neighbors=i)\n",
    "    clf.fit(x_train, y_train)\n",
    "    accuracy_train.append(clf.score(x_train, y_train))\n",
    "    accuracy_test.append(clf.score(x_test, y_test))\n",
    "    \n",
    "print(\"Training accuracy list\",accuracy_train)\n",
    "print(\"Testing accuracy list\",accuracy_test)\n"
   ]
  },
  {
   "cell_type": "code",
   "execution_count": 257,
   "metadata": {
    "scrolled": true
   },
   "outputs": [
    {
     "data": {
      "image/png": "[encoded data removed]",
      "text/plain": [
       "<Figure size 432x288 with 1 Axes>"
      ]
     },
     "metadata": {
      "needs_background": "light"
     },
     "output_type": "display_data"
    },
    {
     "name": "stdout",
     "output_type": "stream",
     "text": [
      "7\n"
     ]
    }
   ],
   "source": [
    "import matplotlib.pyplot as plt\n",
    "n_neighbors=[i for i in range(1,11)]\n",
    "plt.plot(n_neighbors, accuracy_train, label='training accuracy')\n",
    "plt.plot(n_neighbors, accuracy_test, label='test accuracy')\n",
    "plt.legend()\n",
    "plt.show()\n",
    "print(accuracy_test.index(max(accuracy_test)))\n"
   ]
  },
  {
   "cell_type": "code",
   "execution_count": 258,
   "metadata": {},
   "outputs": [
    {
     "name": "stdout",
     "output_type": "stream",
     "text": [
      "[[18306   355]\n",
      " [ 4481   858]]\n",
      "              precision    recall  f1-score   support\n",
      "\n",
      "           0       0.80      0.98      0.88     18661\n",
      "           1       0.71      0.16      0.26      5339\n",
      "\n",
      "   micro avg       0.80      0.80      0.80     24000\n",
      "   macro avg       0.76      0.57      0.57     24000\n",
      "weighted avg       0.78      0.80      0.75     24000\n",
      "\n",
      "\n",
      "[[4536  167]\n",
      " [1162  135]]\n",
      "              precision    recall  f1-score   support\n",
      "\n",
      "           0       0.80      0.96      0.87      4703\n",
      "           1       0.45      0.10      0.17      1297\n",
      "\n",
      "   micro avg       0.78      0.78      0.78      6000\n",
      "   macro avg       0.62      0.53      0.52      6000\n",
      "weighted avg       0.72      0.78      0.72      6000\n",
      "\n"
     ]
    }
   ],
   "source": [
    "#We have thus concluded that for 8 neighbours, the KNN classifier yeilds a maximum accuracy of 77.85% on test dataset.\n",
    "\n",
    "classifier = KNeighborsClassifier(n_neighbors=8)\n",
    "classifier.fit(x_train, y_train)\n",
    "\n",
    "y_predict_train = classifier.predict(x_train)\n",
    "y_predict_test = classifier.predict(x_test)\n",
    "print(confusion_matrix(y_train, y_predict_train))\n",
    "print(classification_report(y_train, y_predict_train))\n",
    "print()\n",
    "print(confusion_matrix(y_test, y_predict_test))\n",
    "print(classification_report(y_test, y_predict_test))"
   ]
  },
  {
   "cell_type": "code",
   "execution_count": 259,
   "metadata": {
    "scrolled": true
   },
   "outputs": [
    {
     "name": "stdout",
     "output_type": "stream",
     "text": [
      "[[18343  4574]\n",
      " [  318   765]]\n",
      "              precision    recall  f1-score   support\n",
      "\n",
      "           0       0.98      0.80      0.88     22917\n",
      "           1       0.14      0.71      0.24      1083\n",
      "\n",
      "   micro avg       0.80      0.80      0.80     24000\n",
      "   macro avg       0.56      0.75      0.56     24000\n",
      "weighted avg       0.95      0.80      0.85     24000\n",
      "\n",
      "\n",
      "[[4580 1161]\n",
      " [ 123  136]]\n",
      "              precision    recall  f1-score   support\n",
      "\n",
      "           0       0.97      0.80      0.88      5741\n",
      "           1       0.10      0.53      0.17       259\n",
      "\n",
      "   micro avg       0.79      0.79      0.79      6000\n",
      "   macro avg       0.54      0.66      0.53      6000\n",
      "weighted avg       0.94      0.79      0.85      6000\n",
      "\n"
     ]
    }
   ],
   "source": [
    "#We see that the model we trained, has low recall on classifying 1.\n",
    "#So we need to normalize the data\n",
    "from sklearn.preprocessing import Normalizer\n",
    "norm = Normalizer().fit(X)\n",
    "np.set_printoptions(precision=3)\n",
    "scaledata = norm.transform(X)\n",
    "#print(scaledata)\n",
    "#print(X[0])\n",
    "x_train, x_test, y_train, y_test = train_test_split(scaledata, Y, random_state = 0, test_size = 0.2)\n",
    "clf.fit(x_train, y_train)\n",
    "y_predict_train = clf.predict(x_train)\n",
    "y_predict_test = clf.predict(x_test)\n",
    "print(confusion_matrix(y_predict_train, y_train))\n",
    "print(classification_report(y_predict_train, y_train))\n",
    "print()\n",
    "print(confusion_matrix(y_predict_test, y_test))\n",
    "print(classification_report(y_predict_test, y_test))"
   ]
  },
  {
   "cell_type": "code",
   "execution_count": 260,
   "metadata": {},
   "outputs": [
    {
     "name": "stdout",
     "output_type": "stream",
     "text": [
      "0.7961666666666667\n",
      "0.786\n"
     ]
    }
   ],
   "source": [
    "\n",
    "print(clf.score(x_train, y_train))\n",
    "print(clf.score(x_test, y_test))"
   ]
  },
  {
   "cell_type": "code",
   "execution_count": 149,
   "metadata": {},
   "outputs": [],
   "source": [
    "#From the above observations, we have noticed that the precision for 0 is high, and for 1 is poor\n",
    "#We will now remove sparse values, #(data cleaning) from the dataset and see what happens"
   ]
  },
  {
   "cell_type": "code",
   "execution_count": 157,
   "metadata": {},
   "outputs": [],
   "source": [
    "indexes = []\n",
    "names = list(df.columns)[11:-1]\n",
    "#print(names)\n",
    "dfnew = df[names]\n",
    "#Removing sparse values from the dataframe"
   ]
  },
  {
   "cell_type": "code",
   "execution_count": 164,
   "metadata": {},
   "outputs": [
    {
     "data": {
      "text/plain": [
       "12"
      ]
     },
     "execution_count": 164,
     "metadata": {},
     "output_type": "execute_result"
    }
   ],
   "source": [
    "len(names)"
   ]
  },
  {
   "cell_type": "code",
   "execution_count": 165,
   "metadata": {},
   "outputs": [],
   "source": [
    "indexes=[]\n",
    "for i in range(30000):\n",
    "    row = list(dfnew.iloc[i])\n",
    "    if(row.count(0)>=7):\n",
    "        indexes.append(i)"
   ]
  },
  {
   "cell_type": "code",
   "execution_count": 166,
   "metadata": {},
   "outputs": [
    {
     "name": "stdout",
     "output_type": "stream",
     "text": [
      "2797\n",
      "(30000, 24)\n"
     ]
    }
   ],
   "source": [
    "print(len(indexes))\n",
    "print(df.shape)"
   ]
  },
  {
   "cell_type": "code",
   "execution_count": 168,
   "metadata": {},
   "outputs": [],
   "source": [
    "#Dropping the indexes from the dataframe\n",
    "dnew = df\n",
    "dnew = dnew.drop(dnew.index[indexes])"
   ]
  },
  {
   "cell_type": "code",
   "execution_count": 169,
   "metadata": {},
   "outputs": [
    {
     "data": {
      "text/plain": [
       "'\\nWe pass the data into the function\\nThe function will split the data.\\nWill create the best model for the data (in this case, optimum value of k) KFind\\nTrain the data\\nPredict the data\\n\\n\\n'"
      ]
     },
     "execution_count": 169,
     "metadata": {},
     "output_type": "execute_result"
    }
   ],
   "source": [
    "#Part: Defining functions for the code\n",
    "\n",
    "#Function: Classify\n",
    "\"\"\"\n",
    "We pass the data into the function\n",
    "The function will split the data.\n",
    "Will create the best model for the data (in this case, optimum value of k) KFind\n",
    "Train the data\n",
    "Predict the data\n",
    "\n",
    "\n",
    "\"\"\""
   ]
  },
  {
   "cell_type": "code",
   "execution_count": 170,
   "metadata": {},
   "outputs": [],
   "source": [
    "def KFind(x_train, x_test, y_train, y_test):\n",
    "    accuracy_train=[]\n",
    "    accuracy_test=[]\n",
    "    for i in range(1,11):\n",
    "        clf = KNeighborsClassifier(n_neighbors=i)\n",
    "        clf.fit(x_train, y_train)\n",
    "        accuracy_train.append(clf.score(x_train, y_train))\n",
    "        accuracy_test.append(clf.score(x_test, y_test))\n",
    "    #K will be the maximum accuracy for test data\n",
    "    maximum = max(accuracy_test)\n",
    "    index = accuracy_test.index(maximum)\n",
    "    no_of_neighbours = index+1\n",
    "    return(no_of_neighbours)"
   ]
  },
  {
   "cell_type": "code",
   "execution_count": 249,
   "metadata": {},
   "outputs": [
    {
     "name": "stdout",
     "output_type": "stream",
     "text": [
      "[2 2 2 ... 1 1 1]\n"
     ]
    }
   ],
   "source": [
    "array = df.values\n",
    "X = array[:,:-1]\n",
    "print(X[:,1])"
   ]
  },
  {
   "cell_type": "code",
   "execution_count": 240,
   "metadata": {},
   "outputs": [],
   "source": [
    "#Scale the data: Define a normalizer function\n",
    "def Normalizer(df):\n",
    "    array = df.values\n",
    "    lower = 1\n",
    "    upper = 10\n",
    "    X = array[:,:-1]\n",
    "    X = X.astype('float64') \n",
    "    Y = array[:,-1]\n",
    "    flag=0;\n",
    "    print(type(X[2,3]))\n",
    "    #We normalize all columns of X\n",
    "    for i in range(X.shape[1]):\n",
    "        column = X[:,i]\n",
    "        maximum = np.max(column)\n",
    "        minimum = np.min(column)\n",
    "        for j in range(column.shape[0]):\n",
    "            column[j] = (upper-lower) * (column[j]-minimum)/(maximum-minimum) + lower\n",
    "        X[:,i]=column   \n",
    "    return X, Y"
   ]
  },
  {
   "cell_type": "code",
   "execution_count": 246,
   "metadata": {},
   "outputs": [
    {
     "name": "stdout",
     "output_type": "stream",
     "text": [
      "<class 'numpy.float64'>\n",
      "(27203, 23)\n",
      "[ 1. 10.  4.  7.  3.  2.  2.  2.  2.  2.  2.  2. 10.  1.  2.  1.  3.  1.\n",
      "  1.  1.  1.  1.  1.]\n",
      "[ 1. 10.  4.  4.  3.  2.  2.  2.  2.  2.  2.  2.  1.  2.  2.  1.  3.  1.\n",
      "  1.  1.  1.  1.  1.]\n"
     ]
    }
   ],
   "source": [
    "X, Y = Normalizer(dnew)\n",
    "print(X.shape)\n",
    "print(X[1,:])\n",
    "print(X[2,:])"
   ]
  },
  {
   "cell_type": "code",
   "execution_count": 236,
   "metadata": {},
   "outputs": [
    {
     "name": "stdout",
     "output_type": "stream",
     "text": [
      "<class 'numpy.float64'>\n",
      "[1. 1. 1. 1. 1. 1. 1. 1. 1.]\n",
      "10.0   1.0\n",
      "<class 'numpy.float64'>\n",
      "9\n"
     ]
    }
   ],
   "source": [
    "#Now, we will implement the code\n",
    "X, Y = Normalizer(dnew)\n",
    "x_train, x_test, y_train, y_test = train_test_split(X, Y, random_state=7, test_size=0.33)\n",
    "k = KFind(x_train, x_test, y_train, y_test)\n",
    "print(k)\n",
    "clf = KNeighborsClassifier(n_neighbors=k)\n",
    "clf.fit(x_train, y_train)\n",
    "y_predict_train = clf.predict(x_train)\n",
    "y_predict_test = clf.predict(x_test)"
   ]
  },
  {
   "cell_type": "code",
   "execution_count": 187,
   "metadata": {},
   "outputs": [
    {
     "name": "stdout",
     "output_type": "stream",
     "text": [
      "Confusion matrix and Classification report of train dataset\n",
      "[[13560  2330]\n",
      " [  666  1670]]\n",
      "              precision    recall  f1-score   support\n",
      "\n",
      "           0       0.95      0.85      0.90     15890\n",
      "           1       0.42      0.71      0.53      2336\n",
      "\n",
      "   micro avg       0.84      0.84      0.84     18226\n",
      "   macro avg       0.69      0.78      0.71     18226\n",
      "weighted avg       0.88      0.84      0.85     18226\n",
      "\n",
      "Confusion matrix and Classification report of test dataset\n",
      "              precision    recall  f1-score   support\n",
      "\n",
      "           0       0.94      0.84      0.89      7868\n",
      "           1       0.35      0.61      0.45      1109\n",
      "\n",
      "   micro avg       0.81      0.81      0.81      8977\n",
      "   macro avg       0.65      0.73      0.67      8977\n",
      "weighted avg       0.87      0.81      0.83      8977\n",
      "\n",
      "[[6634 1234]\n",
      " [ 431  678]]\n",
      "Training set Accuracy\n",
      "0.8356194447492593\n",
      "\n",
      "Test set Accuracy\n",
      "0.8145260109167873\n"
     ]
    }
   ],
   "source": [
    "print(\"Confusion matrix and Classification report of train dataset\")\n",
    "print(confusion_matrix(y_predict_train, y_train))\n",
    "print(classification_report(y_predict_train, y_train))\n",
    "print(\"Confusion matrix and Classification report of test dataset\")\n",
    "print(classification_report(y_predict_test, y_test))\n",
    "print(confusion_matrix(y_predict_test, y_test))\n",
    "print(\"Training set Accuracy\")\n",
    "print(clf.score(x_train, y_train))\n",
    "print()\n",
    "print(\"Test set Accuracy\")\n",
    "print(clf.score(x_test, y_test))"
   ]
  },
  {
   "cell_type": "code",
   "execution_count": 188,
   "metadata": {},
   "outputs": [
    {
     "data": {
      "text/plain": [
       "array([1, 1, 1, 1, 1])"
      ]
     },
     "execution_count": 188,
     "metadata": {},
     "output_type": "execute_result"
    }
   ],
   "source": [
    "X[:5,22]"
   ]
  },
  {
   "cell_type": "code",
   "execution_count": 189,
   "metadata": {},
   "outputs": [
    {
     "data": {
      "text/plain": [
       "dtype('int64')"
      ]
     },
     "execution_count": 189,
     "metadata": {},
     "output_type": "execute_result"
    }
   ],
   "source": [
    "X[:5,22].dtype"
   ]
  },
  {
   "cell_type": "code",
   "execution_count": 262,
   "metadata": {},
   "outputs": [
    {
     "name": "stdout",
     "output_type": "stream",
     "text": [
      "[20000, 2, 2, 1, 24, 2, 2, -1, -1, -2, -2, 3913, 3102, 689, 0, 0, 0, 0, 689, 0, 0, 0, 0, 1]\n"
     ]
    }
   ],
   "source": [
    "print(list(df.iloc[0]))"
   ]
  },
  {
   "cell_type": "code",
   "execution_count": null,
   "metadata": {},
   "outputs": [],
   "source": []
  }
 ],
 "metadata": {
  "kernelspec": {
   "display_name": "Python 3",
   "language": "python",
   "name": "python3"
  },
  "language_info": {
   "codemirror_mode": {
    "name": "ipython",
    "version": 3
   },
   "file_extension": ".py",
   "mimetype": "text/x-python",
   "name": "python",
   "nbconvert_exporter": "python",
   "pygments_lexer": "ipython3",
   "version": "3.6.8"
  }
 },
 "nbformat": 4,
 "nbformat_minor": 2
}
