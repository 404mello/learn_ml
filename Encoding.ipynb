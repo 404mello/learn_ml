{
 "cells": [
  {
   "cell_type": "code",
   "execution_count": 1,
   "metadata": {},
   "outputs": [],
   "source": [
    "from sklearn.preprocessing import OneHotEncoder, LabelEncoder\n",
    "from sklearn.linear_model import LinearRegression\n",
    "import pandas as pd"
   ]
  },
  {
   "cell_type": "code",
   "execution_count": 2,
   "metadata": {},
   "outputs": [
    {
     "name": "stdout",
     "output_type": "stream",
     "text": [
      "Hello\n"
     ]
    }
   ],
   "source": [
    "print(\"Hello\")"
   ]
  },
  {
   "cell_type": "code",
   "execution_count": 3,
   "metadata": {},
   "outputs": [
    {
     "name": "stderr",
     "output_type": "stream",
     "text": [
      "/anaconda3/lib/python3.6/site-packages/sklearn/preprocessing/_encoders.py:368: FutureWarning: The handling of integer data will change in version 0.22. Currently, the categories are determined based on the range [0, max(values)], while in the future they will be determined based on the unique values.\n",
      "If you want the future behaviour and silence this warning, you can specify \"categories='auto'\".\n",
      "In case you used a LabelEncoder before this OneHotEncoder to convert the categories to integers, then you can now use the OneHotEncoder directly.\n",
      "  warnings.warn(msg, FutureWarning)\n"
     ]
    }
   ],
   "source": [
    "array = ['A','B','C','A','B','C','A','B','C','A','B','C']\n",
    "le = LabelEncoder()\n",
    "oe = OneHotEncoder()\n",
    "le = le.fit_transform(array)\n",
    "oe = oe.fit_transform([le]).toarray()\n"
   ]
  },
  {
   "cell_type": "code",
   "execution_count": 4,
   "metadata": {},
   "outputs": [
    {
     "name": "stdout",
     "output_type": "stream",
     "text": [
      "[0 1 2 0 1 2 0 1 2 0 1 2]\n"
     ]
    }
   ],
   "source": [
    "print(le)"
   ]
  },
  {
   "cell_type": "code",
   "execution_count": 5,
   "metadata": {},
   "outputs": [
    {
     "name": "stdout",
     "output_type": "stream",
     "text": [
      "[[1. 1. 1. 1. 1. 1. 1. 1. 1. 1. 1. 1.]]\n"
     ]
    }
   ],
   "source": [
    "print(oe)"
   ]
  },
  {
   "cell_type": "code",
   "execution_count": 6,
   "metadata": {},
   "outputs": [
    {
     "name": "stdout",
     "output_type": "stream",
     "text": [
      "Application on data\n"
     ]
    }
   ],
   "source": [
    "\"\"\"\n",
    "Reading data now\n",
    "\"\"\"\n",
    "print(\"Application on data\")"
   ]
  },
  {
   "cell_type": "code",
   "execution_count": 7,
   "metadata": {},
   "outputs": [
    {
     "name": "stdout",
     "output_type": "stream",
     "text": [
      "[['Development' 2300 0 1.1]\n",
      " ['Testing' 2100 1 1.3]\n",
      " ['Development' 2104 2 1.5]\n",
      " ['UX Designer' 1200 1 2.0]\n",
      " ['Testing' 1254 2 2.2]\n",
      " ['UX Designer' 1236 1 2.9]\n",
      " ['Development' 1452 2 3.0]\n",
      " ['Testing' 1789 1 3.2]\n",
      " ['UX Designer' 1645 1 3.2]\n",
      " ['UX Designer' 1258 0 3.7]\n",
      " ['Testing' 1478 3 3.9]\n",
      " ['Development' 1257 2 4.0]\n",
      " ['Development' 1596 1 4.0]\n",
      " ['Testing' 1256 2 4.1]\n",
      " ['UX Designer' 1489 3 4.5]\n",
      " ['Development' 1236 3 4.9]\n",
      " ['Testing' 2311 2 5.1]\n",
      " ['UX Designer' 2245 3 5.3]\n",
      " ['Development' 2365 1 5.9]\n",
      " ['Development' 1500 3 6.0]\n",
      " ['Testing' 1456 2 6.8]\n",
      " ['Testing' 1760 1 7.1]\n",
      " ['UX Designer' 2400 4 7.9]\n",
      " ['Development' 2148 3 8.2]\n",
      " ['UX Designer' 1450 2 8.7]\n",
      " ['UX Designer' 1000 4 9.0]\n",
      " ['Testing' 1540 3 9.5]\n",
      " ['Development' 1500 2 9.6]\n",
      " ['Testing' 3000 4 10.3]\n",
      " ['UX Designer' 2100 3 10.5]] [39343 46205 37731 43525 39891 56642 60150 54445 64445 57189 63218 55794\n",
      " 56957 57081 61111 67938 66029 83088 81363 93940 91738 98273 101302 113812\n",
      " 109431 105582 116969 112635 122391 121872]\n"
     ]
    }
   ],
   "source": [
    "data = pd.read_csv('data2.csv').values\n",
    "X = data[:,:-1]\n",
    "Y = data[:,4]\n",
    "print(X, Y)"
   ]
  },
  {
   "cell_type": "code",
   "execution_count": 8,
   "metadata": {},
   "outputs": [
    {
     "name": "stdout",
     "output_type": "stream",
     "text": [
      "[[0 2300 0 1.1]\n",
      " [1 2100 1 1.3]\n",
      " [0 2104 2 1.5]\n",
      " [2 1200 1 2.0]\n",
      " [1 1254 2 2.2]\n",
      " [2 1236 1 2.9]\n",
      " [0 1452 2 3.0]\n",
      " [1 1789 1 3.2]\n",
      " [2 1645 1 3.2]\n",
      " [2 1258 0 3.7]\n",
      " [1 1478 3 3.9]\n",
      " [0 1257 2 4.0]\n",
      " [0 1596 1 4.0]\n",
      " [1 1256 2 4.1]\n",
      " [2 1489 3 4.5]\n",
      " [0 1236 3 4.9]\n",
      " [1 2311 2 5.1]\n",
      " [2 2245 3 5.3]\n",
      " [0 2365 1 5.9]\n",
      " [0 1500 3 6.0]\n",
      " [1 1456 2 6.8]\n",
      " [1 1760 1 7.1]\n",
      " [2 2400 4 7.9]\n",
      " [0 2148 3 8.2]\n",
      " [2 1450 2 8.7]\n",
      " [2 1000 4 9.0]\n",
      " [1 1540 3 9.5]\n",
      " [0 1500 2 9.6]\n",
      " [1 3000 4 10.3]\n",
      " [2 2100 3 10.5]]\n",
      "[[1.000e+00 0.000e+00 0.000e+00 2.300e+03 0.000e+00 1.100e+00]\n",
      " [0.000e+00 1.000e+00 0.000e+00 2.100e+03 1.000e+00 1.300e+00]\n",
      " [1.000e+00 0.000e+00 0.000e+00 2.104e+03 2.000e+00 1.500e+00]\n",
      " [0.000e+00 0.000e+00 1.000e+00 1.200e+03 1.000e+00 2.000e+00]\n",
      " [0.000e+00 1.000e+00 0.000e+00 1.254e+03 2.000e+00 2.200e+00]\n",
      " [0.000e+00 0.000e+00 1.000e+00 1.236e+03 1.000e+00 2.900e+00]\n",
      " [1.000e+00 0.000e+00 0.000e+00 1.452e+03 2.000e+00 3.000e+00]\n",
      " [0.000e+00 1.000e+00 0.000e+00 1.789e+03 1.000e+00 3.200e+00]\n",
      " [0.000e+00 0.000e+00 1.000e+00 1.645e+03 1.000e+00 3.200e+00]\n",
      " [0.000e+00 0.000e+00 1.000e+00 1.258e+03 0.000e+00 3.700e+00]\n",
      " [0.000e+00 1.000e+00 0.000e+00 1.478e+03 3.000e+00 3.900e+00]\n",
      " [1.000e+00 0.000e+00 0.000e+00 1.257e+03 2.000e+00 4.000e+00]\n",
      " [1.000e+00 0.000e+00 0.000e+00 1.596e+03 1.000e+00 4.000e+00]\n",
      " [0.000e+00 1.000e+00 0.000e+00 1.256e+03 2.000e+00 4.100e+00]\n",
      " [0.000e+00 0.000e+00 1.000e+00 1.489e+03 3.000e+00 4.500e+00]\n",
      " [1.000e+00 0.000e+00 0.000e+00 1.236e+03 3.000e+00 4.900e+00]\n",
      " [0.000e+00 1.000e+00 0.000e+00 2.311e+03 2.000e+00 5.100e+00]\n",
      " [0.000e+00 0.000e+00 1.000e+00 2.245e+03 3.000e+00 5.300e+00]\n",
      " [1.000e+00 0.000e+00 0.000e+00 2.365e+03 1.000e+00 5.900e+00]\n",
      " [1.000e+00 0.000e+00 0.000e+00 1.500e+03 3.000e+00 6.000e+00]\n",
      " [0.000e+00 1.000e+00 0.000e+00 1.456e+03 2.000e+00 6.800e+00]\n",
      " [0.000e+00 1.000e+00 0.000e+00 1.760e+03 1.000e+00 7.100e+00]\n",
      " [0.000e+00 0.000e+00 1.000e+00 2.400e+03 4.000e+00 7.900e+00]\n",
      " [1.000e+00 0.000e+00 0.000e+00 2.148e+03 3.000e+00 8.200e+00]\n",
      " [0.000e+00 0.000e+00 1.000e+00 1.450e+03 2.000e+00 8.700e+00]\n",
      " [0.000e+00 0.000e+00 1.000e+00 1.000e+03 4.000e+00 9.000e+00]\n",
      " [0.000e+00 1.000e+00 0.000e+00 1.540e+03 3.000e+00 9.500e+00]\n",
      " [1.000e+00 0.000e+00 0.000e+00 1.500e+03 2.000e+00 9.600e+00]\n",
      " [0.000e+00 1.000e+00 0.000e+00 3.000e+03 4.000e+00 1.030e+01]\n",
      " [0.000e+00 0.000e+00 1.000e+00 2.100e+03 3.000e+00 1.050e+01]]\n"
     ]
    },
    {
     "name": "stderr",
     "output_type": "stream",
     "text": [
      "/anaconda3/lib/python3.6/site-packages/sklearn/preprocessing/_encoders.py:368: FutureWarning: The handling of integer data will change in version 0.22. Currently, the categories are determined based on the range [0, max(values)], while in the future they will be determined based on the unique values.\n",
      "If you want the future behaviour and silence this warning, you can specify \"categories='auto'\".\n",
      "In case you used a LabelEncoder before this OneHotEncoder to convert the categories to integers, then you can now use the OneHotEncoder directly.\n",
      "  warnings.warn(msg, FutureWarning)\n",
      "/anaconda3/lib/python3.6/site-packages/sklearn/preprocessing/_encoders.py:390: DeprecationWarning: The 'categorical_features' keyword is deprecated in version 0.20 and will be removed in 0.22. You can use the ColumnTransformer instead.\n",
      "  \"use the ColumnTransformer instead.\", DeprecationWarning)\n"
     ]
    }
   ],
   "source": [
    "le = LabelEncoder()\n",
    "X[:,0] = le.fit_transform(X[:,0])\n",
    "print(X)\n",
    "oh = OneHotEncoder(categorical_features=[0])\n",
    "X = oh.fit_transform(X).toarray()\n",
    "print(X)"
   ]
  },
  {
   "cell_type": "code",
   "execution_count": 9,
   "metadata": {},
   "outputs": [
    {
     "name": "stdout",
     "output_type": "stream",
     "text": [
      "[[0.000e+00 0.000e+00 2.300e+03 0.000e+00 1.100e+00]\n",
      " [1.000e+00 0.000e+00 2.100e+03 1.000e+00 1.300e+00]\n",
      " [0.000e+00 0.000e+00 2.104e+03 2.000e+00 1.500e+00]\n",
      " [0.000e+00 1.000e+00 1.200e+03 1.000e+00 2.000e+00]\n",
      " [1.000e+00 0.000e+00 1.254e+03 2.000e+00 2.200e+00]\n",
      " [0.000e+00 1.000e+00 1.236e+03 1.000e+00 2.900e+00]\n",
      " [0.000e+00 0.000e+00 1.452e+03 2.000e+00 3.000e+00]\n",
      " [1.000e+00 0.000e+00 1.789e+03 1.000e+00 3.200e+00]\n",
      " [0.000e+00 1.000e+00 1.645e+03 1.000e+00 3.200e+00]\n",
      " [0.000e+00 1.000e+00 1.258e+03 0.000e+00 3.700e+00]\n",
      " [1.000e+00 0.000e+00 1.478e+03 3.000e+00 3.900e+00]\n",
      " [0.000e+00 0.000e+00 1.257e+03 2.000e+00 4.000e+00]\n",
      " [0.000e+00 0.000e+00 1.596e+03 1.000e+00 4.000e+00]\n",
      " [1.000e+00 0.000e+00 1.256e+03 2.000e+00 4.100e+00]\n",
      " [0.000e+00 1.000e+00 1.489e+03 3.000e+00 4.500e+00]\n",
      " [0.000e+00 0.000e+00 1.236e+03 3.000e+00 4.900e+00]\n",
      " [1.000e+00 0.000e+00 2.311e+03 2.000e+00 5.100e+00]\n",
      " [0.000e+00 1.000e+00 2.245e+03 3.000e+00 5.300e+00]\n",
      " [0.000e+00 0.000e+00 2.365e+03 1.000e+00 5.900e+00]\n",
      " [0.000e+00 0.000e+00 1.500e+03 3.000e+00 6.000e+00]\n",
      " [1.000e+00 0.000e+00 1.456e+03 2.000e+00 6.800e+00]\n",
      " [1.000e+00 0.000e+00 1.760e+03 1.000e+00 7.100e+00]\n",
      " [0.000e+00 1.000e+00 2.400e+03 4.000e+00 7.900e+00]\n",
      " [0.000e+00 0.000e+00 2.148e+03 3.000e+00 8.200e+00]\n",
      " [0.000e+00 1.000e+00 1.450e+03 2.000e+00 8.700e+00]\n",
      " [0.000e+00 1.000e+00 1.000e+03 4.000e+00 9.000e+00]\n",
      " [1.000e+00 0.000e+00 1.540e+03 3.000e+00 9.500e+00]\n",
      " [0.000e+00 0.000e+00 1.500e+03 2.000e+00 9.600e+00]\n",
      " [1.000e+00 0.000e+00 3.000e+03 4.000e+00 1.030e+01]\n",
      " [0.000e+00 1.000e+00 2.100e+03 3.000e+00 1.050e+01]]\n"
     ]
    }
   ],
   "source": [
    "from sklearn.model_selection import train_test_split\n",
    "from sklearn.linear_model import LinearRegression\n",
    "\n",
    "X = X[:,1:]\n",
    "print(X)"
   ]
  },
  {
   "cell_type": "code",
   "execution_count": 10,
   "metadata": {},
   "outputs": [
    {
     "name": "stdout",
     "output_type": "stream",
     "text": [
      "97.65644313582774\n"
     ]
    }
   ],
   "source": [
    "x_train, x_test, y_train, y_test = train_test_split(X, Y, test_size = 0.2, random_state=8)\n",
    "model = LinearRegression()\n",
    "model.fit(x_train, y_train)\n",
    "result = model.score(x_test, y_test)*100\n",
    "print(result)"
   ]
  },
  {
   "cell_type": "code",
   "execution_count": 11,
   "metadata": {},
   "outputs": [
    {
     "name": "stdout",
     "output_type": "stream",
     "text": [
      "[109488.70541796  39303.64764263  56306.97732929  84322.31231461\n",
      "  72142.88095019  45610.17685718]\n"
     ]
    }
   ],
   "source": [
    "print(model.predict(x_test))"
   ]
  },
  {
   "cell_type": "code",
   "execution_count": 12,
   "metadata": {},
   "outputs": [
    {
     "name": "stdout",
     "output_type": "stream",
     "text": [
      "[105582 39343 54445 81363 67938 39891]\n"
     ]
    }
   ],
   "source": [
    "print(y_test)"
   ]
  },
  {
   "cell_type": "code",
   "execution_count": 13,
   "metadata": {},
   "outputs": [
    {
     "name": "stdout",
     "output_type": "stream",
     "text": [
      "[39343 46205 37731 43525 39891 56642 60150 54445 64445 57189 63218 55794\n",
      " 56957 57081 61111 67938 66029 83088 81363 93940 91738 98273 101302 113812\n",
      " 109431 105582 116969 112635 122391 121872]\n"
     ]
    }
   ],
   "source": [
    "print(Y)"
   ]
  },
  {
   "cell_type": "code",
   "execution_count": 18,
   "metadata": {},
   "outputs": [
    {
     "name": "stderr",
     "output_type": "stream",
     "text": [
      "/anaconda3/lib/python3.6/site-packages/sklearn/preprocessing/_encoders.py:390: DeprecationWarning: The 'categorical_features' keyword is deprecated in version 0.20 and will be removed in 0.22. You can use the ColumnTransformer instead.\n",
      "  \"use the ColumnTransformer instead.\", DeprecationWarning)\n"
     ]
    },
    {
     "ename": "TypeError",
     "evalue": "Wrong type for parameter `n_values`. Expected 'auto', int or array of ints, got <class 'numpy.ndarray'>",
     "output_type": "error",
     "traceback": [
      "\u001b[0;31m---------------------------------------------------------------------------\u001b[0m",
      "\u001b[0;31mTypeError\u001b[0m                                 Traceback (most recent call last)",
      "\u001b[0;32m/anaconda3/lib/python3.6/site-packages/sklearn/preprocessing/_encoders.py\u001b[0m in \u001b[0;36m_legacy_fit_transform\u001b[0;34m(self, X)\u001b[0m\n\u001b[1;32m    451\u001b[0m             \u001b[0;32mtry\u001b[0m\u001b[0;34m:\u001b[0m\u001b[0;34m\u001b[0m\u001b[0;34m\u001b[0m\u001b[0m\n\u001b[0;32m--> 452\u001b[0;31m                 \u001b[0mn_values\u001b[0m \u001b[0;34m=\u001b[0m \u001b[0mnp\u001b[0m\u001b[0;34m.\u001b[0m\u001b[0masarray\u001b[0m\u001b[0;34m(\u001b[0m\u001b[0mself\u001b[0m\u001b[0;34m.\u001b[0m\u001b[0m_n_values\u001b[0m\u001b[0;34m,\u001b[0m \u001b[0mdtype\u001b[0m\u001b[0;34m=\u001b[0m\u001b[0mint\u001b[0m\u001b[0;34m)\u001b[0m\u001b[0;34m\u001b[0m\u001b[0;34m\u001b[0m\u001b[0m\n\u001b[0m\u001b[1;32m    453\u001b[0m             \u001b[0;32mexcept\u001b[0m \u001b[0;34m(\u001b[0m\u001b[0mValueError\u001b[0m\u001b[0;34m,\u001b[0m \u001b[0mTypeError\u001b[0m\u001b[0;34m)\u001b[0m\u001b[0;34m:\u001b[0m\u001b[0;34m\u001b[0m\u001b[0;34m\u001b[0m\u001b[0m\n",
      "\u001b[0;32m/anaconda3/lib/python3.6/site-packages/numpy/core/numeric.py\u001b[0m in \u001b[0;36masarray\u001b[0;34m(a, dtype, order)\u001b[0m\n\u001b[1;32m    537\u001b[0m     \"\"\"\n\u001b[0;32m--> 538\u001b[0;31m     \u001b[0;32mreturn\u001b[0m \u001b[0marray\u001b[0m\u001b[0;34m(\u001b[0m\u001b[0ma\u001b[0m\u001b[0;34m,\u001b[0m \u001b[0mdtype\u001b[0m\u001b[0;34m,\u001b[0m \u001b[0mcopy\u001b[0m\u001b[0;34m=\u001b[0m\u001b[0;32mFalse\u001b[0m\u001b[0;34m,\u001b[0m \u001b[0morder\u001b[0m\u001b[0;34m=\u001b[0m\u001b[0morder\u001b[0m\u001b[0;34m)\u001b[0m\u001b[0;34m\u001b[0m\u001b[0;34m\u001b[0m\u001b[0m\n\u001b[0m\u001b[1;32m    539\u001b[0m \u001b[0;34m\u001b[0m\u001b[0m\n",
      "\u001b[0;31mTypeError\u001b[0m: int() argument must be a string, a bytes-like object or a number, not 'NoneType'",
      "\nDuring handling of the above exception, another exception occurred:\n",
      "\u001b[0;31mTypeError\u001b[0m                                 Traceback (most recent call last)",
      "\u001b[0;32m<ipython-input-18-5cdf1cbcaeb1>\u001b[0m in \u001b[0;36m<module>\u001b[0;34m\u001b[0m\n\u001b[1;32m      4\u001b[0m \u001b[0mnew_data\u001b[0m \u001b[0;34m=\u001b[0m \u001b[0mnp\u001b[0m\u001b[0;34m.\u001b[0m\u001b[0marray\u001b[0m\u001b[0;34m(\u001b[0m\u001b[0;34m[\u001b[0m\u001b[0;34m[\u001b[0m\u001b[0;34m'Testing'\u001b[0m\u001b[0;34m,\u001b[0m\u001b[0;36m2100\u001b[0m\u001b[0;34m,\u001b[0m\u001b[0;36m1\u001b[0m\u001b[0;34m,\u001b[0m\u001b[0;36m1.13\u001b[0m\u001b[0;34m]\u001b[0m\u001b[0;34m,\u001b[0m \u001b[0;34m[\u001b[0m\u001b[0;34m'Development'\u001b[0m\u001b[0;34m,\u001b[0m \u001b[0;36m2104\u001b[0m\u001b[0;34m,\u001b[0m \u001b[0;36m2\u001b[0m\u001b[0;34m,\u001b[0m \u001b[0;36m1.5\u001b[0m\u001b[0;34m]\u001b[0m\u001b[0;34m,\u001b[0m \u001b[0;34m[\u001b[0m\u001b[0;34m'UX Designer'\u001b[0m\u001b[0;34m,\u001b[0m \u001b[0;36m2300\u001b[0m\u001b[0;34m,\u001b[0m \u001b[0;36m0\u001b[0m\u001b[0;34m,\u001b[0m \u001b[0;36m1.1\u001b[0m\u001b[0;34m]\u001b[0m\u001b[0;34m]\u001b[0m\u001b[0;34m)\u001b[0m\u001b[0;34m\u001b[0m\u001b[0;34m\u001b[0m\u001b[0m\n\u001b[1;32m      5\u001b[0m \u001b[0mnew_data\u001b[0m\u001b[0;34m[\u001b[0m\u001b[0;34m:\u001b[0m\u001b[0;34m,\u001b[0m\u001b[0;36m0\u001b[0m\u001b[0;34m]\u001b[0m \u001b[0;34m=\u001b[0m \u001b[0mle\u001b[0m\u001b[0;34m.\u001b[0m\u001b[0mfit_transform\u001b[0m\u001b[0;34m(\u001b[0m\u001b[0mnew_data\u001b[0m\u001b[0;34m[\u001b[0m\u001b[0;34m:\u001b[0m\u001b[0;34m,\u001b[0m\u001b[0;36m0\u001b[0m\u001b[0;34m]\u001b[0m\u001b[0;34m)\u001b[0m\u001b[0;34m\u001b[0m\u001b[0;34m\u001b[0m\u001b[0m\n\u001b[0;32m----> 6\u001b[0;31m \u001b[0mnew_data\u001b[0m \u001b[0;34m=\u001b[0m \u001b[0moh\u001b[0m\u001b[0;34m.\u001b[0m\u001b[0mfit_transform\u001b[0m\u001b[0;34m(\u001b[0m\u001b[0mnew_data\u001b[0m\u001b[0;34m)\u001b[0m\u001b[0;34m.\u001b[0m\u001b[0mtoarray\u001b[0m\u001b[0;34m(\u001b[0m\u001b[0;34m)\u001b[0m\u001b[0;34m\u001b[0m\u001b[0;34m\u001b[0m\u001b[0m\n\u001b[0m\u001b[1;32m      7\u001b[0m \u001b[0mnew_data\u001b[0m \u001b[0;34m=\u001b[0m \u001b[0mnew_data\u001b[0m\u001b[0;34m[\u001b[0m\u001b[0;34m:\u001b[0m\u001b[0;34m,\u001b[0m\u001b[0;36m1\u001b[0m\u001b[0;34m:\u001b[0m\u001b[0;34m]\u001b[0m\u001b[0;34m\u001b[0m\u001b[0;34m\u001b[0m\u001b[0m\n",
      "\u001b[0;32m/anaconda3/lib/python3.6/site-packages/sklearn/preprocessing/_encoders.py\u001b[0m in \u001b[0;36mfit_transform\u001b[0;34m(self, X, y)\u001b[0m\n\u001b[1;32m    512\u001b[0m             return _transform_selected(\n\u001b[1;32m    513\u001b[0m                 \u001b[0mX\u001b[0m\u001b[0;34m,\u001b[0m \u001b[0mself\u001b[0m\u001b[0;34m.\u001b[0m\u001b[0m_legacy_fit_transform\u001b[0m\u001b[0;34m,\u001b[0m \u001b[0mself\u001b[0m\u001b[0;34m.\u001b[0m\u001b[0mdtype\u001b[0m\u001b[0;34m,\u001b[0m\u001b[0;34m\u001b[0m\u001b[0;34m\u001b[0m\u001b[0m\n\u001b[0;32m--> 514\u001b[0;31m                 self._categorical_features, copy=True)\n\u001b[0m\u001b[1;32m    515\u001b[0m         \u001b[0;32melse\u001b[0m\u001b[0;34m:\u001b[0m\u001b[0;34m\u001b[0m\u001b[0;34m\u001b[0m\u001b[0m\n\u001b[1;32m    516\u001b[0m             \u001b[0;32mreturn\u001b[0m \u001b[0mself\u001b[0m\u001b[0;34m.\u001b[0m\u001b[0mfit\u001b[0m\u001b[0;34m(\u001b[0m\u001b[0mX\u001b[0m\u001b[0;34m)\u001b[0m\u001b[0;34m.\u001b[0m\u001b[0mtransform\u001b[0m\u001b[0;34m(\u001b[0m\u001b[0mX\u001b[0m\u001b[0;34m)\u001b[0m\u001b[0;34m\u001b[0m\u001b[0;34m\u001b[0m\u001b[0m\n",
      "\u001b[0;32m/anaconda3/lib/python3.6/site-packages/sklearn/preprocessing/base.py\u001b[0m in \u001b[0;36m_transform_selected\u001b[0;34m(X, transform, dtype, selected, copy, retain_order)\u001b[0m\n\u001b[1;32m     69\u001b[0m         \u001b[0;32mreturn\u001b[0m \u001b[0mtransform\u001b[0m\u001b[0;34m(\u001b[0m\u001b[0mX\u001b[0m\u001b[0;34m)\u001b[0m\u001b[0;34m\u001b[0m\u001b[0;34m\u001b[0m\u001b[0m\n\u001b[1;32m     70\u001b[0m     \u001b[0;32melse\u001b[0m\u001b[0;34m:\u001b[0m\u001b[0;34m\u001b[0m\u001b[0;34m\u001b[0m\u001b[0m\n\u001b[0;32m---> 71\u001b[0;31m         \u001b[0mX_sel\u001b[0m \u001b[0;34m=\u001b[0m \u001b[0mtransform\u001b[0m\u001b[0;34m(\u001b[0m\u001b[0mX\u001b[0m\u001b[0;34m[\u001b[0m\u001b[0;34m:\u001b[0m\u001b[0;34m,\u001b[0m \u001b[0mind\u001b[0m\u001b[0;34m[\u001b[0m\u001b[0msel\u001b[0m\u001b[0;34m]\u001b[0m\u001b[0;34m]\u001b[0m\u001b[0;34m)\u001b[0m\u001b[0;34m\u001b[0m\u001b[0;34m\u001b[0m\u001b[0m\n\u001b[0m\u001b[1;32m     72\u001b[0m         \u001b[0;31m# The columns of X which are not transformed need\u001b[0m\u001b[0;34m\u001b[0m\u001b[0;34m\u001b[0m\u001b[0;34m\u001b[0m\u001b[0m\n\u001b[1;32m     73\u001b[0m         \u001b[0;31m# to be casted to the desire dtype before concatenation.\u001b[0m\u001b[0;34m\u001b[0m\u001b[0;34m\u001b[0m\u001b[0;34m\u001b[0m\u001b[0m\n",
      "\u001b[0;32m/anaconda3/lib/python3.6/site-packages/sklearn/preprocessing/_encoders.py\u001b[0m in \u001b[0;36m_legacy_fit_transform\u001b[0;34m(self, X)\u001b[0m\n\u001b[1;32m    454\u001b[0m                 raise TypeError(\"Wrong type for parameter `n_values`. Expected\"\n\u001b[1;32m    455\u001b[0m                                 \u001b[0;34m\" 'auto', int or array of ints, got %r\"\u001b[0m\u001b[0;34m\u001b[0m\u001b[0;34m\u001b[0m\u001b[0m\n\u001b[0;32m--> 456\u001b[0;31m                                 % type(X))\n\u001b[0m\u001b[1;32m    457\u001b[0m             \u001b[0;32mif\u001b[0m \u001b[0mn_values\u001b[0m\u001b[0;34m.\u001b[0m\u001b[0mndim\u001b[0m \u001b[0;34m<\u001b[0m \u001b[0;36m1\u001b[0m \u001b[0;32mor\u001b[0m \u001b[0mn_values\u001b[0m\u001b[0;34m.\u001b[0m\u001b[0mshape\u001b[0m\u001b[0;34m[\u001b[0m\u001b[0;36m0\u001b[0m\u001b[0;34m]\u001b[0m \u001b[0;34m!=\u001b[0m \u001b[0mX\u001b[0m\u001b[0;34m.\u001b[0m\u001b[0mshape\u001b[0m\u001b[0;34m[\u001b[0m\u001b[0;36m1\u001b[0m\u001b[0;34m]\u001b[0m\u001b[0;34m:\u001b[0m\u001b[0;34m\u001b[0m\u001b[0;34m\u001b[0m\u001b[0m\n\u001b[1;32m    458\u001b[0m                 raise ValueError(\"Shape mismatch: if n_values is an array,\"\n",
      "\u001b[0;31mTypeError\u001b[0m: Wrong type for parameter `n_values`. Expected 'auto', int or array of ints, got <class 'numpy.ndarray'>"
     ]
    }
   ],
   "source": [
    "import numpy as np\n",
    "#Using sample data\n",
    "\n",
    "new_data = np.array([['Testing',2100,1,1.13], ['Development', 2104, 2, 1.5], ['UX Designer', 2300, 0, 1.1]])\n",
    "new_data[:,0] = le.fit_transform(new_data[:,0])\n",
    "new_data = oh.fit_transform(new_data).toarray()\n",
    "new_data = new_data[:,1:]\n"
   ]
  },
  {
   "cell_type": "code",
   "execution_count": null,
   "metadata": {},
   "outputs": [],
   "source": [
    "\n"
   ]
  },
  {
   "cell_type": "code",
   "execution_count": null,
   "metadata": {},
   "outputs": [],
   "source": []
  }
 ],
 "metadata": {
  "kernelspec": {
   "display_name": "Python 3",
   "language": "python",
   "name": "python3"
  },
  "language_info": {
   "codemirror_mode": {
    "name": "ipython",
    "version": 3
   },
   "file_extension": ".py",
   "mimetype": "text/x-python",
   "name": "python",
   "nbconvert_exporter": "python",
   "pygments_lexer": "ipython3",
   "version": "3.6.8"
  }
 },
 "nbformat": 4,
 "nbformat_minor": 2
}
